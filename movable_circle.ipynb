{
 "cells": [
  {
   "cell_type": "code",
   "execution_count": 17,
   "metadata": {},
   "outputs": [
    {
     "ename": "SystemExit",
     "evalue": "",
     "output_type": "error",
     "traceback": [
      "An exception has occurred, use %tb to see the full traceback.\n",
      "\u001b[1;31mSystemExit\u001b[0m\n"
     ]
    }
   ],
   "source": [
    "import pygame\n",
    "import sys\n",
    "import math\n",
    "\n",
    "pygame.init()\n",
    "\n",
    "width, height = 800, 600\n",
    "screen = pygame.display.set_mode((width, height))\n",
    "pygame.display.set_caption(\"Rotated Circle with Distance\")\n",
    "\n",
    "black = (0, 0, 0)\n",
    "white = (255, 255, 255)\n",
    "red = (255, 0, 0)\n",
    "green=(34,139,34)\n",
    "\n",
    "circle_radius = 60\n",
    "distance_from_center = 60\n",
    "rotation_angle = 0\n",
    "\n",
    "\n",
    "def draw_circle(radius, center):\n",
    "    x, y = radius, 0\n",
    "    p = 1 - radius\n",
    "\n",
    "    while x >= y:\n",
    "        draw_symmetric_points(center, x, y)\n",
    "\n",
    "        if p <= 0:\n",
    "            y += 1\n",
    "            p = p + 2 * y + 1\n",
    "        else:\n",
    "            x -= 1\n",
    "            y += 1\n",
    "            p = p + 2 * (y - x) + 1\n",
    "\n",
    "\n",
    "def draw_symmetric_points(center, x, y):\n",
    "    plot_points(center, x, y)\n",
    "    plot_points(center, y, x)\n",
    "    plot_points(center, -x, y)\n",
    "    plot_points(center, -y, x)\n",
    "    plot_points(center, -x, -y)\n",
    "    plot_points(center, -y, -x)\n",
    "    plot_points(center, x, -y)\n",
    "    plot_points(center, y, -x)\n",
    "\n",
    "\n",
    "def plot_points(center, x, y):\n",
    "    pygame.draw.rect(screen, red, (center[0] + x, center[1] - y, 1, 1))\n",
    "    pygame.draw.rect(screen, red, (center[0] + y, center[1] - x, 1, 1))\n",
    "\n",
    "\n",
    "def rotate_circle(angle):\n",
    "    rotated_x = int(distance_from_center * math.cos(math.radians(angle)))\n",
    "    rotated_y = int(distance_from_center * math.sin(math.radians(angle)))\n",
    "    return [width // 2 + rotated_x, height // 2 - rotated_y]\n",
    "\n",
    "\n",
    "while True:\n",
    "    screen.fill(black)\n",
    "\n",
    "    pygame.draw.line(screen, white, (width // 2, 0), (width // 2, height))\n",
    "    pygame.draw.line(screen, white, (0, height // 2), (width, height // 2))\n",
    "    rotated_circle_center = rotate_circle(rotation_angle)\n",
    "    draw_circle(circle_radius, rotated_circle_center)\n",
    "\n",
    "    pygame.display.flip()\n",
    "\n",
    "    for event in pygame.event.get():\n",
    "        if event.type == pygame.QUIT:\n",
    "            pygame.quit()\n",
    "            sys.exit()\n",
    "        elif event.type == pygame.KEYDOWN:\n",
    "            rotation_angle += 45\n"
   ]
  }
 ],
 "metadata": {
  "kernelspec": {
   "display_name": "Python 3",
   "language": "python",
   "name": "python3"
  },
  "language_info": {
   "codemirror_mode": {
    "name": "ipython",
    "version": 3
   },
   "file_extension": ".py",
   "mimetype": "text/x-python",
   "name": "python",
   "nbconvert_exporter": "python",
   "pygments_lexer": "ipython3",
   "version": "3.11.1"
  }
 },
 "nbformat": 4,
 "nbformat_minor": 2
}
